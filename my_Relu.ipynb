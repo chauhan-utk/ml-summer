{
 "cells": [
  {
   "cell_type": "code",
   "execution_count": 16,
   "metadata": {},
   "outputs": [],
   "source": [
    "import torch\n",
    "from torch.autograd import Function\n",
    "from torch.autograd import Variable\n",
    "import torch.nn as nn"
   ]
  },
  {
   "cell_type": "markdown",
   "metadata": {},
   "source": [
    "Check this [official tutorial](http://pytorch.org/docs/master/notes/extending.html) for more information."
   ]
  },
  {
   "cell_type": "code",
   "execution_count": 2,
   "metadata": {},
   "outputs": [
    {
     "name": "stdout",
     "output_type": "stream",
     "text": [
      "\n",
      " 0.1603 -0.1397 -0.7691  0.1643\n",
      "-0.2076 -1.9886  0.9985 -1.8432\n",
      " 1.3439  0.0772  0.3334 -0.6732\n",
      "[torch.FloatTensor of size 3x4]\n",
      "\n"
     ]
    }
   ],
   "source": [
    "a = torch.randn(3,4)\n",
    "print(a)"
   ]
  },
  {
   "cell_type": "code",
   "execution_count": 3,
   "metadata": {},
   "outputs": [],
   "source": [
    "a[a.lt(0)] *= 0.5"
   ]
  },
  {
   "cell_type": "code",
   "execution_count": 4,
   "metadata": {},
   "outputs": [
    {
     "data": {
      "text/plain": [
       "\n",
       " 0.1603 -0.0699 -0.3845  0.1643\n",
       "-0.1038 -0.9943  0.9985 -0.9216\n",
       " 1.3439  0.0772  0.3334 -0.3366\n",
       "[torch.FloatTensor of size 3x4]"
      ]
     },
     "execution_count": 4,
     "metadata": {},
     "output_type": "execute_result"
    }
   ],
   "source": [
    "a"
   ]
  },
  {
   "cell_type": "code",
   "execution_count": 5,
   "metadata": {},
   "outputs": [],
   "source": [
    "r, c = a.size()"
   ]
  },
  {
   "cell_type": "markdown",
   "metadata": {},
   "source": [
    "Comparing different methods for setting values to zero in tensor."
   ]
  },
  {
   "cell_type": "code",
   "execution_count": 6,
   "metadata": {},
   "outputs": [],
   "source": [
    "def for_change(a):\n",
    "    r,c = a.size()\n",
    "    for i in range(r):\n",
    "        for j in range(c):\n",
    "            if a[i,j] < 0:\n",
    "                a[i,j] = 0\n",
    "    return a"
   ]
  },
  {
   "cell_type": "code",
   "execution_count": 8,
   "metadata": {},
   "outputs": [
    {
     "name": "stdout",
     "output_type": "stream",
     "text": [
      "333 µs ± 3.64 µs per loop (mean ± std. dev. of 7 runs, 1000 loops each)\n"
     ]
    }
   ],
   "source": [
    "%timeit bl = for_change(torch.randn(12,34))"
   ]
  },
  {
   "cell_type": "code",
   "execution_count": 9,
   "metadata": {},
   "outputs": [],
   "source": [
    "def gt_change(a):\n",
    "    a[a.lt(0)] = 0.\n",
    "    return a"
   ]
  },
  {
   "cell_type": "code",
   "execution_count": 10,
   "metadata": {
    "scrolled": true
   },
   "outputs": [
    {
     "name": "stdout",
     "output_type": "stream",
     "text": [
      "17 µs ± 50.1 ns per loop (mean ± std. dev. of 7 runs, 100000 loops each)\n"
     ]
    }
   ],
   "source": [
    "%timeit bl_2 = gt_change(torch.randn(12,34).contiguous())"
   ]
  },
  {
   "cell_type": "code",
   "execution_count": null,
   "metadata": {
    "collapsed": true
   },
   "outputs": [],
   "source": []
  },
  {
   "cell_type": "code",
   "execution_count": 11,
   "metadata": {},
   "outputs": [],
   "source": [
    "# since first need to define a Function custom op\n",
    "class my_RELU(Function):\n",
    "    \n",
    "    def forward(self, input):\n",
    "        # use the in-built function to pack the variables\n",
    "        # for computing the backward pass\n",
    "        self.save_for_backward(input)\n",
    "        \n",
    "        # set the values less than zero to be zero\n",
    "        # done in style\n",
    "        input1 = input.clone()\n",
    "        input1[input1.le(0)] = 0.\n",
    "        # try to do everything with same variable\n",
    "        # for speed and efficiency\n",
    "        return input1\n",
    "    \n",
    "    def backward(self, grad_output):\n",
    "        # use the in-built attribute to recover the saved input variables\n",
    "        input, = self.saved_tensors\n",
    "        size = input.size()\n",
    "        # good practice to initialize the gradient variables\n",
    "        grad_input = None\n",
    "        \n",
    "        # make checks for efficiency\n",
    "        # they are optional, for more information check the link\n",
    "        if self.needs_input_grad[0]:\n",
    "            # computation of gradient with respect to the output\n",
    "            # stop the gradient for values less than zero\n",
    "            grad_input = grad_output\n",
    "            grad_input[input.le(0)] = 0.\n",
    "            \n",
    "            #print(type(input), input.size(), type(grad_input), grad_input.size())\n",
    "        return grad_input"
   ]
  },
  {
   "cell_type": "markdown",
   "metadata": {},
   "source": [
    "Perform a gradient check to see if the gradients computed above (using calculus) match the numerical gradients."
   ]
  },
  {
   "cell_type": "code",
   "execution_count": 12,
   "metadata": {
    "collapsed": true
   },
   "outputs": [],
   "source": [
    "from torch.autograd import gradcheck"
   ]
  },
  {
   "cell_type": "code",
   "execution_count": 13,
   "metadata": {},
   "outputs": [
    {
     "name": "stdout",
     "output_type": "stream",
     "text": [
      "True\n"
     ]
    }
   ],
   "source": [
    "inputs = (Variable(torch.randn(4,3).double(), requires_grad=True),)\n",
    "test = gradcheck(my_RELU(), inputs, eps=1e-6, atol=1e-4)\n",
    "\n",
    "print(test)"
   ]
  },
  {
   "cell_type": "markdown",
   "metadata": {},
   "source": [
    "Now define the Module layer so that you can use the custom op as a layer also"
   ]
  },
  {
   "cell_type": "code",
   "execution_count": 17,
   "metadata": {},
   "outputs": [],
   "source": [
    "class my_RELU(nn.Module):\n",
    "    def forward(self, input):\n",
    "        return my_RELU()(input)"
   ]
  }
 ],
 "metadata": {
  "kernelspec": {
   "display_name": "Python 3",
   "language": "python",
   "name": "python3"
  },
  "language_info": {
   "codemirror_mode": {
    "name": "ipython",
    "version": 3
   },
   "file_extension": ".py",
   "mimetype": "text/x-python",
   "name": "python",
   "nbconvert_exporter": "python",
   "pygments_lexer": "ipython3",
   "version": "3.6.1"
  }
 },
 "nbformat": 4,
 "nbformat_minor": 2
}
