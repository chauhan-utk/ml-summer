{
 "cells": [
  {
   "cell_type": "markdown",
   "metadata": {},
   "source": [
    "GAN code from [this link](https://github.com/wiseodd/generative-models/blob/master/GAN/vanilla_gan/gan_pytorch.py)"
   ]
  },
  {
   "cell_type": "code",
   "execution_count": 1,
   "metadata": {
    "collapsed": true
   },
   "outputs": [],
   "source": [
    "%matplotlib inline"
   ]
  },
  {
   "cell_type": "code",
   "execution_count": 4,
   "metadata": {
    "collapsed": true
   },
   "outputs": [],
   "source": [
    "import torch\n",
    "import torch.nn as nn\n",
    "import torch.autograd as autograd\n",
    "import torch.optim as optim\n",
    "import numpy as np\n",
    "import matplotlib.pyplot as plt\n",
    "import matplotlib.gridspec as gridspec\n",
    "import os\n",
    "from torch.autograd import Variable\n",
    "import torchvision.datasets as dsets\n",
    "import torchvision.transforms as transforms"
   ]
  },
  {
   "cell_type": "code",
   "execution_count": 241,
   "metadata": {
    "collapsed": true
   },
   "outputs": [],
   "source": [
    "z_dim = 25\n",
    "h1_dim = 40\n",
    "h2_dim = 64\n",
    "x_dim = 784\n",
    "\n",
    "class Generator(nn.Module):\n",
    "    def __init__(self):\n",
    "        super(Generator, self).__init__()\n",
    "        self.fc1 = nn.Linear(z_dim, h1_dim)\n",
    "        self.fc2 = nn.Linear(h1_dim, h2_dim)\n",
    "        self.elu = nn.ELU()\n",
    "        self.fc3 = nn.Linear(h1_dim, x_dim)\n",
    "        \n",
    "    def forward(self, x):\n",
    "        out = self.elu(self.fc1(x))\n",
    "        #out = self.elu(self.fc2(out))\n",
    "        out = self.fc3(out)\n",
    "        return out"
   ]
  },
  {
   "cell_type": "code",
   "execution_count": 242,
   "metadata": {
    "collapsed": true
   },
   "outputs": [],
   "source": [
    "class Discriminator(nn.Module):\n",
    "    def __init__(self):\n",
    "        super(Discriminator, self).__init__()\n",
    "        self.fc1 = nn.Linear(x_dim, h1_dim)\n",
    "        self.fc2 = nn.Linear(h1_dim, 1)\n",
    "        self.elu = nn.ELU()\n",
    "        self.sigmoid = nn.Sigmoid()\n",
    "        \n",
    "    def forward(self, x):\n",
    "        out = self.elu(self.fc1(x))\n",
    "        out = self.fc2(out)\n",
    "        return out"
   ]
  },
  {
   "cell_type": "code",
   "execution_count": 243,
   "metadata": {
    "collapsed": true
   },
   "outputs": [],
   "source": [
    "generator = Generator()\n",
    "discriminator = Discriminator()"
   ]
  },
  {
   "cell_type": "markdown",
   "metadata": {},
   "source": [
    "## Prepare data"
   ]
  },
  {
   "cell_type": "code",
   "execution_count": 244,
   "metadata": {
    "collapsed": true
   },
   "outputs": [],
   "source": [
    "train_data = dsets.MNIST(root=\"./datasets/\",\n",
    "                  train=True, transform=transforms.ToTensor())"
   ]
  },
  {
   "cell_type": "code",
   "execution_count": 245,
   "metadata": {
    "collapsed": true
   },
   "outputs": [],
   "source": [
    "batch_size = 256\n",
    "train_loader = torch.utils.data.DataLoader(dataset=train_data,\n",
    "                                           batch_size=batch_size,\n",
    "                                           shuffle=True, drop_last=True)"
   ]
  },
  {
   "cell_type": "code",
   "execution_count": 246,
   "metadata": {},
   "outputs": [
    {
     "name": "stdout",
     "output_type": "stream",
     "text": [
      "torch.Size([256, 1, 28, 28])\n",
      "torch.Size([256, 784])\n"
     ]
    }
   ],
   "source": [
    "(img, label_) = iter(train_loader).next()\n",
    "\n",
    "print(img.size())\n",
    "\n",
    "img_ = img.view(batch_size, -1)\n",
    "print(img_.size())"
   ]
  },
  {
   "cell_type": "code",
   "execution_count": 247,
   "metadata": {},
   "outputs": [
    {
     "data": {
      "text/plain": [
       "torch.Size([256, 1])"
      ]
     },
     "execution_count": 247,
     "metadata": {},
     "output_type": "execute_result"
    }
   ],
   "source": [
    "img1 = Variable(img_)\n",
    "blah = discriminator(img1)\n",
    "\n",
    "blah.size()"
   ]
  },
  {
   "cell_type": "code",
   "execution_count": 248,
   "metadata": {},
   "outputs": [],
   "source": [
    "ones_label = Variable(torch.ones(batch_size)).unsqueeze(1)\n",
    "zeros_label = Variable(torch.zeros(batch_size)).unsqueeze(1)"
   ]
  },
  {
   "cell_type": "code",
   "execution_count": 249,
   "metadata": {},
   "outputs": [
    {
     "data": {
      "text/plain": [
       "torch.Size([256, 1])"
      ]
     },
     "execution_count": 249,
     "metadata": {},
     "output_type": "execute_result"
    }
   ],
   "source": [
    "ones_label.size()"
   ]
  },
  {
   "cell_type": "code",
   "execution_count": 250,
   "metadata": {},
   "outputs": [],
   "source": [
    "bl_loss = criterion(blah, ones_label)"
   ]
  },
  {
   "cell_type": "code",
   "execution_count": 251,
   "metadata": {},
   "outputs": [
    {
     "data": {
      "text/plain": [
       "1.0923508405685425"
      ]
     },
     "execution_count": 251,
     "metadata": {},
     "output_type": "execute_result"
    }
   ],
   "source": [
    "bl_loss.data[0]"
   ]
  },
  {
   "cell_type": "code",
   "execution_count": 252,
   "metadata": {
    "collapsed": true
   },
   "outputs": [],
   "source": [
    "lr = 0.001\n",
    "D_solver = torch.optim.Adam(discriminator.parameters(), lr=lr)\n",
    "G_solver = torch.optim.Adam(generator.parameters(), lr=lr)"
   ]
  },
  {
   "cell_type": "code",
   "execution_count": 253,
   "metadata": {
    "collapsed": true
   },
   "outputs": [],
   "source": [
    "criterion = nn.MSELoss()"
   ]
  },
  {
   "cell_type": "code",
   "execution_count": 254,
   "metadata": {
    "collapsed": true
   },
   "outputs": [],
   "source": [
    "import time\n",
    "import math"
   ]
  },
  {
   "cell_type": "code",
   "execution_count": 255,
   "metadata": {
    "collapsed": true
   },
   "outputs": [],
   "source": [
    "def timesince(since):\n",
    "    end = time.time() - since\n",
    "    m = math.floor(end / 60)\n",
    "    end -= m*60\n",
    "    return (m, end)"
   ]
  },
  {
   "cell_type": "code",
   "execution_count": 256,
   "metadata": {},
   "outputs": [
    {
     "name": "stdout",
     "output_type": "stream",
     "text": [
      "Iter-0, D_loss:1.103014, G_loss:0.987294\n",
      "Iter-50, D_loss:0.276072, G_loss:0.263318\n",
      "Iter-100, D_loss:0.266602, G_loss:0.266030\n",
      "Iter-150, D_loss:0.249903, G_loss:0.252744\n",
      "Iter-200, D_loss:0.264301, G_loss:0.249284\n",
      "Epoch: 0 time: 0m 4s\n",
      "Iter-0, D_loss:0.257214, G_loss:0.253959\n",
      "Iter-50, D_loss:0.259650, G_loss:0.247150\n",
      "Iter-100, D_loss:0.254017, G_loss:0.260085\n",
      "Iter-150, D_loss:0.257353, G_loss:0.256484\n",
      "Iter-200, D_loss:0.255268, G_loss:0.254898\n",
      "Epoch: 1 time: 0m 4s\n",
      "Iter-0, D_loss:0.256777, G_loss:0.255670\n",
      "Iter-50, D_loss:0.251761, G_loss:0.260571\n",
      "Iter-100, D_loss:0.249182, G_loss:0.250946\n",
      "Iter-150, D_loss:0.259399, G_loss:0.249960\n",
      "Iter-200, D_loss:0.251270, G_loss:0.248253\n",
      "Epoch: 2 time: 0m 4s\n",
      "Iter-0, D_loss:0.252909, G_loss:0.250442\n",
      "Iter-50, D_loss:0.251140, G_loss:0.250667\n",
      "Iter-100, D_loss:0.251726, G_loss:0.251863\n",
      "Iter-150, D_loss:0.254784, G_loss:0.251526\n",
      "Iter-200, D_loss:0.250787, G_loss:0.251186\n",
      "Epoch: 3 time: 0m 4s\n",
      "Iter-0, D_loss:0.253488, G_loss:0.245920\n",
      "Iter-50, D_loss:0.250162, G_loss:0.250831\n",
      "Iter-100, D_loss:0.250900, G_loss:0.250541\n",
      "Iter-150, D_loss:0.250939, G_loss:0.249471\n",
      "Iter-200, D_loss:0.253443, G_loss:0.247519\n",
      "Epoch: 4 time: 0m 4s\n"
     ]
    },
    {
     "data": {
      "image/png": "[encoded data removed]",
      "text/plain": [
       "<matplotlib.figure.Figure at 0x29a8fdc3da0>"
      ]
     },
     "metadata": {},
     "output_type": "display_data"
    },
    {
     "data": {
      "image/png": "[encoded data removed]",
      "text/plain": [
       "<matplotlib.figure.Figure at 0x29a9104c3c8>"
      ]
     },
     "metadata": {},
     "output_type": "display_data"
    },
    {
     "data": {
      "image/png": "[encoded data removed]",
      "text/plain": [
       "<matplotlib.figure.Figure at 0x29a90cd1f98>"
      ]
     },
     "metadata": {},
     "output_type": "display_data"
    },
    {
     "data": {
      "image/png": "[encoded data removed]",
      "text/plain": [
       "<matplotlib.figure.Figure at 0x29a87715c18>"
      ]
     },
     "metadata": {},
     "output_type": "display_data"
    },
    {
     "data": {
      "image/png": "[encoded data removed]",
      "text/plain": [
       "<matplotlib.figure.Figure at 0x29a90c41be0>"
      ]
     },
     "metadata": {},
     "output_type": "display_data"
    }
   ],
   "source": [
    "epochs = 5\n",
    "\n",
    "for epoch in range(epochs):\n",
    "    start = time.time()\n",
    "    for i, (images, labels) in enumerate(train_loader):\n",
    "        # sample data\n",
    "        z = Variable(torch.randn(batch_size, z_dim))\n",
    "        \n",
    "        # X size is <batch_size, x_dim>\n",
    "        X = Variable(images.view(batch_size, -1))\n",
    "        #print(X.size())\n",
    "                     \n",
    "        # Discriminator update\n",
    "        G_sample = generator(z)\n",
    "        D_real = discriminator(X)\n",
    "        D_fake = discriminator(G_sample)\n",
    "        \n",
    "        D_real_loss = criterion(D_real, ones_label)\n",
    "        D_fake_loss = criterion(D_fake, zeros_label)\n",
    "        \n",
    "        D_loss = D_real_loss + D_fake_loss\n",
    "        D_loss.backward()\n",
    "        \n",
    "        D_solver.step()\n",
    "        D_solver.zero_grad() # reset the gradients\n",
    "        \n",
    "        # Generator update\n",
    "        z = Variable(torch.randn(batch_size, z_dim))\n",
    "        G_sample = generator(z)\n",
    "        D_fake = discriminator(G_sample)\n",
    "        \n",
    "        G_loss = criterion(D_fake, ones_label)\n",
    "        \n",
    "        G_loss.backward()\n",
    "        G_solver.step()\n",
    "        G_solver.zero_grad()\n",
    "        \n",
    "        if i % 50 == 0:\n",
    "            print(\"Iter-%d, D_loss:%f, G_loss:%f\" %(i,\n",
    "                                                   D_loss.data.numpy(),\n",
    "                                                   G_loss.data.numpy()))\n",
    "    (m, s) = timesince(start)\n",
    "    \n",
    "    z = Variable(torch.randn(batch_size, z_dim))\n",
    "    samples = generator(z).data.numpy()[:4]\n",
    "    \n",
    "    fig = plt.figure(figsize=(4,4))\n",
    "    gs = gridspec.GridSpec(4,4)\n",
    "    gs.update(wspace=0.05, hspace=0.05)\n",
    "    \n",
    "    for i, sample in enumerate(samples):\n",
    "        ax = plt.subplot(gs[i])\n",
    "        plt.axis(\"off\")\n",
    "        ax.set_xticklabels([])\n",
    "        ax.set_yticklabels([])\n",
    "        ax.set_aspect(\"equal\")\n",
    "        plt.imshow(sample.reshape(28, 28), cmap=\"Greys_r\")\n",
    "        \n",
    "    print(\"Epoch: %d time: %dm %ds\" %(epoch, m, s))"
   ]
  }
 ],
 "metadata": {
  "kernelspec": {
   "display_name": "Python 3",
   "language": "python",
   "name": "python3"
  },
  "language_info": {
   "codemirror_mode": {
    "name": "ipython",
    "version": 3
   },
   "file_extension": ".py",
   "mimetype": "text/x-python",
   "name": "python",
   "nbconvert_exporter": "python",
   "pygments_lexer": "ipython3",
   "version": "3.6.1"
  }
 },
 "nbformat": 4,
 "nbformat_minor": 2
}
