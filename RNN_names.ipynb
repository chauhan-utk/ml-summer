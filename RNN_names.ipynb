{
 "cells": [
  {
   "cell_type": "code",
   "execution_count": 1,
   "metadata": {
    "collapsed": true
   },
   "outputs": [],
   "source": [
    "from __future__ import print_function, division, unicode_literals\n",
    "from io import open\n",
    "import glob"
   ]
  },
  {
   "cell_type": "code",
   "execution_count": 6,
   "metadata": {
    "collapsed": true
   },
   "outputs": [],
   "source": [
    "import numpy as np"
   ]
  },
  {
   "cell_type": "code",
   "execution_count": 2,
   "metadata": {
    "collapsed": true
   },
   "outputs": [],
   "source": [
    "def findfiles(path):\n",
    "    return glob.glob(path)"
   ]
  },
  {
   "cell_type": "code",
   "execution_count": 3,
   "metadata": {},
   "outputs": [
    {
     "name": "stdout",
     "output_type": "stream",
     "text": [
      "['./data/names\\\\Arabic.txt', './data/names\\\\Chinese.txt', './data/names\\\\Czech.txt', './data/names\\\\Dutch.txt', './data/names\\\\English.txt', './data/names\\\\French.txt', './data/names\\\\German.txt', './data/names\\\\Greek.txt', './data/names\\\\Irish.txt', './data/names\\\\Italian.txt', './data/names\\\\Japanese.txt', './data/names\\\\Korean.txt', './data/names\\\\Polish.txt', './data/names\\\\Portuguese.txt', './data/names\\\\Russian.txt', './data/names\\\\Scottish.txt', './data/names\\\\Spanish.txt', './data/names\\\\Vietnamese.txt']\n"
     ]
    }
   ],
   "source": [
    "print(findfiles(\"./data/names/*.txt\"))"
   ]
  },
  {
   "cell_type": "markdown",
   "metadata": {},
   "source": [
    "Deal with some character encodings now."
   ]
  },
  {
   "cell_type": "code",
   "execution_count": 113,
   "metadata": {
    "collapsed": true
   },
   "outputs": [],
   "source": [
    "import unicodedata\n",
    "import string\n",
    "\n",
    "all_letters = string.ascii_letters + \",.;\"\n",
    "n_letters = len(all_letter)"
   ]
  },
  {
   "cell_type": "code",
   "execution_count": 114,
   "metadata": {},
   "outputs": [
    {
     "data": {
      "text/plain": [
       "'yzABC'"
      ]
     },
     "execution_count": 114,
     "metadata": {},
     "output_type": "execute_result"
    }
   ],
   "source": [
    "blah = np.random.randint(0, n_letters)\n",
    "all_letters[blah:blah+5]"
   ]
  },
  {
   "cell_type": "code",
   "execution_count": 116,
   "metadata": {
    "collapsed": true
   },
   "outputs": [],
   "source": [
    "# Turn a Unicode string to plain ASCII\n",
    "# thanks to http://stackoverflow.com/a/518232/2809427\n",
    "\n",
    "def unicodeToAscii(s):\n",
    "    return \"\".join(\n",
    "    c for c in unicodedata.normalize(\"NFD\", s)\n",
    "    if unicodedata.category(c) != \"Mn\"\n",
    "    and c in all_letters)"
   ]
  },
  {
   "cell_type": "code",
   "execution_count": 117,
   "metadata": {},
   "outputs": [
    {
     "name": "stdout",
     "output_type": "stream",
     "text": [
      "Slusarski\n"
     ]
    }
   ],
   "source": [
    "print(unicodeToAscii('Ślusàrski'))"
   ]
  },
  {
   "cell_type": "code",
   "execution_count": 119,
   "metadata": {
    "collapsed": true
   },
   "outputs": [],
   "source": [
    "# Build the category_lines dictionary\n",
    "# a list of names per language\n",
    "category_lines = {}\n",
    "all_categories = []"
   ]
  },
  {
   "cell_type": "code",
   "execution_count": 122,
   "metadata": {
    "collapsed": true
   },
   "outputs": [],
   "source": [
    "# Read a file and split into lines\n",
    "def readLines(filename):\n",
    "    with open(filename, encoding=\"utf-8\") as f:\n",
    "        lines = f.read().strip().split(\"\\n\")\n",
    "    return [unicodeToAscii(line) for line in lines]"
   ]
  },
  {
   "cell_type": "code",
   "execution_count": 124,
   "metadata": {
    "collapsed": true
   },
   "outputs": [],
   "source": [
    "for filename in findfiles(\"./data/names/*.txt\"):\n",
    "    category = filename.split(\"/\")[-1].split(\".\")[0]\n",
    "    all_categories.append(category)\n",
    "    lines = readLines(filename)\n",
    "    category_lines[category] = lines\n",
    "\n",
    "n_categories = len(all_categories)"
   ]
  },
  {
   "cell_type": "code",
   "execution_count": 125,
   "metadata": {},
   "outputs": [
    {
     "data": {
      "text/plain": [
       "dict_keys(['names\\\\Arabic', 'names\\\\Chinese', 'names\\\\Czech', 'names\\\\Dutch', 'names\\\\English', 'names\\\\French', 'names\\\\German', 'names\\\\Greek', 'names\\\\Irish', 'names\\\\Italian', 'names\\\\Japanese', 'names\\\\Korean', 'names\\\\Polish', 'names\\\\Portuguese', 'names\\\\Russian', 'names\\\\Scottish', 'names\\\\Spanish', 'names\\\\Vietnamese'])"
      ]
     },
     "execution_count": 125,
     "metadata": {},
     "output_type": "execute_result"
    }
   ],
   "source": [
    "category_lines.keys()"
   ]
  },
  {
   "cell_type": "code",
   "execution_count": 128,
   "metadata": {},
   "outputs": [
    {
     "name": "stdout",
     "output_type": "stream",
     "text": [
      "3668\n",
      "['names\\\\Arabic', 'names\\\\Chinese', 'names\\\\Czech', 'names\\\\Dutch', 'names\\\\English', 'names\\\\French', 'names\\\\German', 'names\\\\Greek', 'names\\\\Irish', 'names\\\\Italian', 'names\\\\Japanese', 'names\\\\Korean', 'names\\\\Polish', 'names\\\\Portuguese', 'names\\\\Russian', 'names\\\\Scottish', 'names\\\\Spanish', 'names\\\\Vietnamese']\n"
     ]
    }
   ],
   "source": [
    "print(len(category_lines[\"names\\\\English\"]))\n",
    "print(all_categories)"
   ]
  },
  {
   "cell_type": "markdown",
   "metadata": {},
   "source": [
    "Using one-hot-vector for representing single letter:\n",
    "`<1 x n_letters>`\n",
    "To make a word, use one-hot-vectors to make a matrix:\n",
    "`<line_length x 1 x n_letters>`"
   ]
  },
  {
   "cell_type": "code",
   "execution_count": 129,
   "metadata": {
    "collapsed": true
   },
   "outputs": [],
   "source": [
    "import torch"
   ]
  },
  {
   "cell_type": "code",
   "execution_count": 130,
   "metadata": {
    "collapsed": true
   },
   "outputs": [],
   "source": [
    "def letterToIndex(letter):\n",
    "    return all_letters.find(letter)"
   ]
  },
  {
   "cell_type": "code",
   "execution_count": 131,
   "metadata": {
    "collapsed": true
   },
   "outputs": [],
   "source": [
    "def letterToTensor(letter):\n",
    "    tensor = torch.zeros(1, n_letters)\n",
    "    tensor[0][letterToIndex(letter)] = 1\n",
    "    return tensor"
   ]
  },
  {
   "cell_type": "code",
   "execution_count": 132,
   "metadata": {
    "collapsed": true
   },
   "outputs": [],
   "source": [
    "# Turn a line into a <line_length x 1 x n_letters>,\n",
    "# or an array of one-hot letter vectors\n",
    "def lineToTensor(line):\n",
    "    tensor = torch.zeros(len(line), 1, n_letters)\n",
    "    for li, letter in enumerate(line):\n",
    "        tensor[li][0][letterToIndex(letter)] = 1\n",
    "    return tensor"
   ]
  },
  {
   "cell_type": "code",
   "execution_count": 135,
   "metadata": {},
   "outputs": [
    {
     "name": "stdout",
     "output_type": "stream",
     "text": [
      "0 54\n"
     ]
    }
   ],
   "source": [
    "print(letterToIndex(\"a\"), letterToIndex(\";\"))"
   ]
  },
  {
   "cell_type": "code",
   "execution_count": 136,
   "metadata": {},
   "outputs": [
    {
     "name": "stdout",
     "output_type": "stream",
     "text": [
      "torch.Size([5, 1, 55])\n"
     ]
    }
   ],
   "source": [
    "print(lineToTensor(\"Jones\").size())"
   ]
  },
  {
   "attachments": {
    "image.png": {
     "image/png": "[encoded data removed]"
    }
   },
   "cell_type": "markdown",
   "metadata": {},
   "source": [
    "This is the architecture we want to follow:\n",
    "\n",
    "<img src=\"attachment:image.png\" width=450>"
   ]
  },
  {
   "cell_type": "code",
   "execution_count": 137,
   "metadata": {
    "collapsed": true
   },
   "outputs": [],
   "source": [
    "import torch.nn as nn\n",
    "from torch.autograd import Variable"
   ]
  },
  {
   "cell_type": "code",
   "execution_count": 197,
   "metadata": {
    "collapsed": true
   },
   "outputs": [],
   "source": [
    "num_layers = 1\n",
    "class RNN(nn.Module):\n",
    "    def __init__(self, input_size, num_layers, hidden_size, output_size):\n",
    "        super(RNN, self).__init__()\n",
    "        \n",
    "        self.hidden_size = hidden_size\n",
    "        self.num_layers = num_layers\n",
    "        self.lstm = nn.LSTM(input_size, hidden_size, num_layers,\n",
    "                           batch_first=True)\n",
    "        self.fc = nn.Linear(hidden_size, output_size)\n",
    "        self.softmax = nn.LogSoftmax()\n",
    "        \n",
    "    def forward(self, input):\n",
    "        h0 = Variable(torch.zeros(self.num_layers, input.size(0),\n",
    "                                 self.hidden_size))\n",
    "        c0 = Variable(torch.zeros(self.num_layers, input.size(0),\n",
    "                                 self.hidden_size))\n",
    "        output, (hn, cn) = self.lstm(input,(h0,c0))\n",
    "        output = self.softmax(self.fc(output[:, -1, :]))\n",
    "        return output, (hn, cn)"
   ]
  },
  {
   "cell_type": "code",
   "execution_count": 198,
   "metadata": {
    "collapsed": true
   },
   "outputs": [],
   "source": [
    "n_hidden = 128\n",
    "rnn = RNN(n_letters, num_layers, n_hidden, n_categories)"
   ]
  },
  {
   "cell_type": "markdown",
   "metadata": {},
   "source": [
    "PyTorch modules work on Variables and not on Tensors"
   ]
  },
  {
   "cell_type": "markdown",
   "metadata": {},
   "source": [
    "Use `lineToTensor` instead of `letterToTensor` and slices for efficiency."
   ]
  },
  {
   "cell_type": "code",
   "execution_count": 201,
   "metadata": {
    "collapsed": true
   },
   "outputs": [],
   "source": [
    "input = Variable(lineToTensor(\"Albert\"))"
   ]
  },
  {
   "cell_type": "code",
   "execution_count": 202,
   "metadata": {},
   "outputs": [
    {
     "name": "stdout",
     "output_type": "stream",
     "text": [
      "<class 'torch.autograd.variable.Variable'>\n",
      "<class 'torch.autograd.variable.Variable'>\n",
      "torch.Size([6, 1, 55])\n",
      "torch.Size([1, 55])\n"
     ]
    }
   ],
   "source": [
    "print(type(input[0]))\n",
    "print(type(input))\n",
    "print(input.size())\n",
    "print(input[0].size())"
   ]
  },
  {
   "cell_type": "code",
   "execution_count": 203,
   "metadata": {},
   "outputs": [
    {
     "name": "stdout",
     "output_type": "stream",
     "text": [
      "Variable containing:\n",
      "\n",
      "Columns 0 to 9 \n",
      "-2.8645 -2.9025 -2.8898 -2.9639 -2.8641 -2.9147 -2.8385 -2.8589 -2.8229 -2.8752\n",
      "-2.8849 -2.9086 -2.8994 -2.9328 -2.8780 -2.9176 -2.8429 -2.8542 -2.8338 -2.8836\n",
      "-2.8678 -2.9031 -2.8951 -2.9515 -2.8816 -2.9151 -2.8384 -2.8564 -2.8336 -2.8661\n",
      "-2.8583 -2.8984 -2.9040 -2.9510 -2.8716 -2.9199 -2.8524 -2.8426 -2.8478 -2.8738\n",
      "-2.8764 -2.9188 -2.8996 -2.9314 -2.8634 -2.9153 -2.8524 -2.8497 -2.8452 -2.8751\n",
      "-2.8746 -2.9181 -2.9014 -2.9398 -2.8660 -2.9177 -2.8433 -2.8577 -2.8386 -2.8667\n",
      "\n",
      "Columns 10 to 17 \n",
      "-2.9797 -2.8928 -2.9257 -2.8873 -2.8840 -2.8490 -2.9508 -2.8777\n",
      "-2.9568 -2.8882 -2.9236 -2.8727 -2.8787 -2.8516 -2.9498 -2.8801\n",
      "-2.9528 -2.8985 -2.9302 -2.8794 -2.8708 -2.8547 -2.9588 -2.8851\n",
      "-2.9585 -2.8859 -2.9228 -2.8710 -2.8789 -2.8518 -2.9632 -2.8873\n",
      "-2.9644 -2.8850 -2.9339 -2.8727 -2.8892 -2.8472 -2.9400 -2.8777\n",
      "-2.9561 -2.8879 -2.9200 -2.8779 -2.8820 -2.8504 -2.9504 -2.8892\n",
      "[torch.FloatTensor of size 6x18]\n",
      "\n"
     ]
    }
   ],
   "source": [
    "output, next_hidden = rnn(input)\n",
    "print(output)"
   ]
  },
  {
   "cell_type": "markdown",
   "metadata": {},
   "source": [
    "Outputs is `<batch_size x n_categories>` tensor, where every item in a row is the likelihood of a category for the particular word"
   ]
  },
  {
   "cell_type": "markdown",
   "metadata": {},
   "source": [
    "## Training"
   ]
  },
  {
   "cell_type": "markdown",
   "metadata": {},
   "source": [
    "Prepare a helper function to make meaning of the output of the network."
   ]
  },
  {
   "cell_type": "code",
   "execution_count": 204,
   "metadata": {
    "collapsed": true
   },
   "outputs": [],
   "source": [
    "top_n, top_i = output.data.topk(1)"
   ]
  },
  {
   "cell_type": "code",
   "execution_count": 205,
   "metadata": {},
   "outputs": [
    {
     "data": {
      "text/plain": [
       "(\n",
       " -2.8229\n",
       " -2.8338\n",
       " -2.8336\n",
       " -2.8426\n",
       " -2.8452\n",
       " -2.8386\n",
       " [torch.FloatTensor of size 6x1], \n",
       "  8\n",
       "  8\n",
       "  8\n",
       "  7\n",
       "  8\n",
       "  8\n",
       " [torch.LongTensor of size 6x1])"
      ]
     },
     "execution_count": 205,
     "metadata": {},
     "output_type": "execute_result"
    }
   ],
   "source": [
    "top_n, top_i"
   ]
  },
  {
   "cell_type": "code",
   "execution_count": 152,
   "metadata": {
    "collapsed": true
   },
   "outputs": [],
   "source": [
    "def categoryFromOutput(output):\n",
    "    top_n, top_i = output.data.topk(1) # tensor out of Varaible with .data\n",
    "    category_i = top_i[0][0]\n",
    "    return all_categories[category_i], category_i"
   ]
  },
  {
   "cell_type": "code",
   "execution_count": 153,
   "metadata": {},
   "outputs": [
    {
     "name": "stdout",
     "output_type": "stream",
     "text": [
      "('names\\\\Chinese', 1)\n"
     ]
    }
   ],
   "source": [
    "print(categoryFromOutput(output))"
   ]
  },
  {
   "cell_type": "markdown",
   "metadata": {},
   "source": [
    "Generating training examples ( a name and its language)."
   ]
  },
  {
   "cell_type": "code",
   "execution_count": 154,
   "metadata": {
    "collapsed": true
   },
   "outputs": [],
   "source": [
    "import random"
   ]
  },
  {
   "cell_type": "code",
   "execution_count": 155,
   "metadata": {
    "collapsed": true
   },
   "outputs": [],
   "source": [
    "def randomChoice(l):\n",
    "    return l[random.randint(0, len(l) - 1)]"
   ]
  },
  {
   "cell_type": "code",
   "execution_count": 156,
   "metadata": {
    "collapsed": true
   },
   "outputs": [],
   "source": [
    "def randomTrainingExample():\n",
    "    category = randomChoice(all_categories)\n",
    "    line = randomChoice(category_lines[category])\n",
    "    category_tensor = Variable(torch.LongTensor(\n",
    "        [all_categories.index(category)]))\n",
    "    line_tensor = Variable(lineToTensor(line))\n",
    "    return category, line, category_tensor, line_tensor"
   ]
  },
  {
   "cell_type": "code",
   "execution_count": 157,
   "metadata": {},
   "outputs": [
    {
     "name": "stdout",
     "output_type": "stream",
     "text": [
      "category=  names\\Scottish / line=  Crawford\n",
      "category=  names\\Dutch / line=  Segers\n",
      "category=  names\\German / line=  Sauber\n",
      "category=  names\\English / line=  Pine\n",
      "category=  names\\Korean / line=  Suk\n",
      "category=  names\\Italian / line=  Porto\n",
      "category=  names\\Irish / line=  Maciomhair\n",
      "category=  names\\Arabic / line=  Koury\n",
      "category=  names\\English / line=  Gaudin\n",
      "category=  names\\Italian / line=  Milano\n"
     ]
    }
   ],
   "source": [
    "for i in range(10):\n",
    "    category, line, category_tensor, line_tensor = randomTrainingExample()\n",
    "    print(\"category= \", category, \"/ line= \", line)"
   ]
  },
  {
   "cell_type": "code",
   "execution_count": 162,
   "metadata": {},
   "outputs": [
    {
     "name": "stdout",
     "output_type": "stream",
     "text": [
      "torch.Size([1]) torch.Size([6, 1, 55])\n",
      "Variable containing:\n",
      " 9\n",
      "[torch.LongTensor of size 1]\n",
      "\n",
      "Variable containing:\n",
      "\n",
      "Columns 0 to 12 \n",
      "    0     0     0     0     0     0     0     0     0     0     0     0     0\n",
      "\n",
      "Columns 13 to 25 \n",
      "    0     0     0     0     0     0     0     0     0     0     0     0     0\n",
      "\n",
      "Columns 26 to 38 \n",
      "    0     0     0     0     0     0     0     0     0     0     0     0     1\n",
      "\n",
      "Columns 39 to 51 \n",
      "    0     0     0     0     0     0     0     0     0     0     0     0     0\n",
      "\n",
      "Columns 52 to 54 \n",
      "    0     0     0\n",
      "[torch.FloatTensor of size 1x55]\n",
      "\n"
     ]
    }
   ],
   "source": [
    "print(category_tensor.size(), line_tensor.size())\n",
    "print(category_tensor)\n",
    "print(line_tensor[0])"
   ]
  },
  {
   "cell_type": "markdown",
   "metadata": {},
   "source": [
    "### Training the Network"
   ]
  },
  {
   "cell_type": "code",
   "execution_count": 161,
   "metadata": {
    "collapsed": true
   },
   "outputs": [],
   "source": [
    "# last layer of network is softmax so NLLLoss is a reasonable choice\n",
    "criterion = nn.NLLLoss()"
   ]
  },
  {
   "cell_type": "markdown",
   "metadata": {},
   "source": [
    "Each loop in training will:\n",
    "* create the training example and target\n",
    "* initialize the hidden layer\n",
    "* feed the network one word\n",
    "    * keep hidden state for next letter\n",
    "* compare the final output and target\n",
    "* compute gradients\n",
    "* backpropagate\n",
    "* return the output and loss"
   ]
  },
  {
   "cell_type": "code",
   "execution_count": 163,
   "metadata": {
    "collapsed": true
   },
   "outputs": [],
   "source": [
    "lr = 0.005\n",
    "\n",
    "param = None\n",
    "\n",
    "def train(category_tensor, line_tensor):\n",
    "    # create a class hidden layer\n",
    "    hidden = rnn.initHidden()\n",
    "    \n",
    "    rnn.zero_grad()\n",
    "    \n",
    "    # feed each letter to the network\n",
    "    for i in range(line_tensor.size()[0]):\n",
    "        output, hidden = rnn(line_tensor[i], hidden)\n",
    "        \n",
    "    loss = criterion(output, category_tensor)\n",
    "    loss.backward()\n",
    "    \n",
    "    # Add parameters' gradients to their values, multiplied by learning rate\n",
    "    for i in rnn.parameters():\n",
    "        i.data.add_(-lr, i.grad.data)\n",
    "        \n",
    "    return output, loss.data[0]"
   ]
  },
  {
   "cell_type": "code",
   "execution_count": 164,
   "metadata": {
    "collapsed": true
   },
   "outputs": [],
   "source": [
    "import time\n",
    "import math"
   ]
  },
  {
   "cell_type": "code",
   "execution_count": 170,
   "metadata": {
    "collapsed": true
   },
   "outputs": [],
   "source": [
    "n_iters = 100000\n",
    "print_every = 5000\n",
    "plot_every = 1000"
   ]
  },
  {
   "cell_type": "code",
   "execution_count": 166,
   "metadata": {
    "collapsed": true
   },
   "outputs": [],
   "source": [
    "current_loss = 0\n",
    "all_losses = []"
   ]
  },
  {
   "cell_type": "code",
   "execution_count": 167,
   "metadata": {
    "collapsed": true
   },
   "outputs": [],
   "source": [
    "def timeSince(since):\n",
    "    now = time.time()\n",
    "    s = now - since\n",
    "    m = math.floor(s / 60)\n",
    "    s -= m * 60\n",
    "    return \"%dm %ds\" %(m, s)"
   ]
  },
  {
   "cell_type": "code",
   "execution_count": 171,
   "metadata": {},
   "outputs": [
    {
     "name": "stdout",
     "output_type": "stream",
     "text": [
      "5000 5% (0m 11s) 3.0841 Kennedy / names\\German ✗ (names\\Scottish)\n",
      "10000 10% (0m 23s) 1.5970 Araullo / names\\Portuguese ✓\n",
      "15000 15% (0m 38s) 1.2530 Garofalo / names\\Italian ✓\n",
      "20000 20% (0m 52s) 1.2469 Kitoaji / names\\Japanese ✓\n",
      "25000 25% (1m 7s) 0.7913 Nonomura / names\\Japanese ✓\n",
      "30000 30% (1m 22s) 1.1341 Chin / names\\Korean ✓\n",
      "35000 35% (1m 36s) 0.2535 Bahar / names\\Arabic ✓\n",
      "40000 40% (1m 51s) 1.0719 Lawerenz / names\\German ✓\n",
      "45000 45% (2m 5s) 0.7167 Dufour / names\\French ✓\n",
      "50000 50% (2m 20s) 0.8619 Masi / names\\Italian ✓\n",
      "55000 55% (2m 34s) 1.4396 Jian / names\\Chinese ✓\n",
      "60000 60% (2m 49s) 1.0764 Ibu / names\\Japanese ✓\n",
      "65000 65% (3m 4s) 3.3067 Abbracciabene / names\\Scottish ✗ (names\\Italian)\n",
      "70000 70% (3m 18s) 0.4027 Bagryansky / names\\Russian ✓\n",
      "75000 75% (3m 33s) 2.6016 Picasso / names\\Italian ✗ (names\\Spanish)\n",
      "80000 80% (3m 47s) 0.9987 Melo / names\\Portuguese ✓\n",
      "85000 85% (4m 2s) 1.0921 Oldland / names\\English ✓\n",
      "90000 90% (4m 17s) 1.7606 Lapointe / names\\Italian ✗ (names\\French)\n",
      "95000 95% (4m 31s) 2.0913 Graham / names\\Arabic ✗ (names\\Scottish)\n",
      "100000 100% (4m 46s) 2.1429 Loh / names\\Korean ✗ (names\\Chinese)\n"
     ]
    }
   ],
   "source": [
    "start = time.time()\n",
    "\n",
    "for iter in range(1, n_iter+1):\n",
    "    category, line, category_tensor, line_tensor = randomTrainingExample()\n",
    "    output, loss = train(category_tensor, line_tensor)\n",
    "    current_loss += loss\n",
    "    \n",
    "    # Print iter number, loss, name and guess\n",
    "    if iter % print_every == 0:\n",
    "        guess, guess_i = categoryFromOutput(output)\n",
    "        correct = '✓' if guess == category else '✗ (%s)' % category\n",
    "        print('%d %d%% (%s) %.4f %s / %s %s' % (iter, iter / n_iters * 100, timeSince(start), loss, line, guess, correct))\n",
    "\n",
    "    # Add current loss avg to list of losses\n",
    "    if iter % plot_every == 0:\n",
    "        all_losses.append(current_loss / plot_every)\n",
    "        current_loss = 0"
   ]
  },
  {
   "cell_type": "code",
   "execution_count": 174,
   "metadata": {
    "collapsed": true
   },
   "outputs": [],
   "source": [
    "%matplotlib inline\n",
    "import matplotlib.pyplot as plt\n",
    "import matplotlib.ticker as ticker"
   ]
  },
  {
   "cell_type": "code",
   "execution_count": 175,
   "metadata": {},
   "outputs": [
    {
     "data": {
      "text/plain": [
       "[<matplotlib.lines.Line2D at 0x1d97b990f98>]"
      ]
     },
     "execution_count": 175,
     "metadata": {},
     "output_type": "execute_result"
    },
    {
     "data": {
      "image/png": "[encoded data removed]",
      "text/plain": [
       "<matplotlib.figure.Figure at 0x1d97b2b87f0>"
      ]
     },
     "metadata": {},
     "output_type": "display_data"
    }
   ],
   "source": [
    "plt.figure()\n",
    "plt.plot(all_losses)"
   ]
  },
  {
   "cell_type": "markdown",
   "metadata": {},
   "source": [
    "### Evaluating the Results\n",
    "\n",
    "Create a confusion matrix, indicating for every actual language (rows) which language the network guesses (columns).\n",
    "\n",
    "To compute the confusion matrix a bunch of samples in eval() mode, which is same as train() mode minus the backprop."
   ]
  },
  {
   "cell_type": "code",
   "execution_count": 176,
   "metadata": {
    "collapsed": true
   },
   "outputs": [],
   "source": [
    "# Keep track of correct guesses in a confusion matrix\n",
    "confusion = torch.zeros(n_categories, n_categories)\n",
    "n_confusion = 10000"
   ]
  },
  {
   "cell_type": "code",
   "execution_count": 177,
   "metadata": {
    "collapsed": true
   },
   "outputs": [],
   "source": [
    "def evaluate(line_tensor):\n",
    "    hidden = rnn.initHidden()\n",
    "    rnn.eval()\n",
    "    for i in range(line_tensor.size()[0]):\n",
    "        output, hidden = rnn(line_tensor[i], hidden)\n",
    "    rnn.train()\n",
    "    return output"
   ]
  },
  {
   "cell_type": "code",
   "execution_count": 178,
   "metadata": {
    "collapsed": true
   },
   "outputs": [],
   "source": [
    "# Go through a bunch of examples and record which are correctly guessed\n",
    "\n",
    "for i in range(n_confusion):\n",
    "    category, line, category_tensor, line_tensor = randomTrainingExample()\n",
    "    output = evaluate(line_tensor)\n",
    "    guess, guess_i = categoryFromOutput(output)\n",
    "    category_i = all_categories.index(category)\n",
    "    confusion[category_i][guess_i] += 1"
   ]
  },
  {
   "cell_type": "code",
   "execution_count": 192,
   "metadata": {
    "collapsed": true
   },
   "outputs": [
    {
     "name": "stdout",
     "output_type": "stream",
     "text": [
      "torch.Size([18, 18])\n",
      "\n",
      " 261\n",
      "  10\n",
      "   2\n",
      "  30\n",
      "   0\n",
      "   7\n",
      "  36\n",
      "  33\n",
      "  46\n",
      "  32\n",
      "  53\n",
      "  21\n",
      "   3\n",
      "  21\n",
      "  25\n",
      "  15\n",
      "   3\n",
      "   0\n",
      "[torch.FloatTensor of size 18]\n",
      "\n"
     ]
    }
   ],
   "source": [
    "print(confusion.size())\n",
    "print(confusion[0])"
   ]
  },
  {
   "cell_type": "code",
   "execution_count": 193,
   "metadata": {
    "collapsed": true
   },
   "outputs": [],
   "source": [
    "# Normalize each row by dividing every row by its sum\n",
    "# essentially normalize across all the guess made by RNN for one row\n",
    "\n",
    "for i in range(n_categories):\n",
    "    confusion[i] = confusion[i] / confusion[i].sum()"
   ]
  },
  {
   "cell_type": "code",
   "execution_count": 195,
   "metadata": {
    "scrolled": true
   },
   "outputs": [
    {
     "data": {
      "image/png": "[encoded data removed]",
      "text/plain": [
       "<matplotlib.figure.Figure at 0x1d97ba28438>"
      ]
     },
     "metadata": {},
     "output_type": "display_data"
    }
   ],
   "source": [
    "# set up plot\n",
    "fig = plt.figure()\n",
    "ax = fig.add_subplot(111)\n",
    "cax = ax.matshow(confusion.numpy())\n",
    "fig.colorbar(cax)\n",
    "\n",
    "# Set up axes\n",
    "ax.set_xticklabels([''] + all_categories, rotation=90)\n",
    "ax.set_yticklabels([''] + all_categories)\n",
    "\n",
    "# Force label at every tick\n",
    "ax.xaxis.set_major_locator(ticker.MultipleLocator(1))\n",
    "ax.yaxis.set_major_locator(ticker.MultipleLocator(1))\n",
    "\n",
    "# sphinx_gallery_thumbnail_number = 2\n",
    "plt.show()"
   ]
  },
  {
   "cell_type": "markdown",
   "metadata": {},
   "source": [
    "You can pick out bright spots off the main axis that show which languages it guesses incorrectly, e.g. Chinese for Korean, and Spanish for Italian. It seems to do very well with Greek, and very poorly with English (perhaps because of overlap with other languages)"
   ]
  },
  {
   "cell_type": "markdown",
   "metadata": {},
   "source": [
    "## Running on User Input"
   ]
  },
  {
   "cell_type": "code",
   "execution_count": 196,
   "metadata": {},
   "outputs": [
    {
     "name": "stdout",
     "output_type": "stream",
     "text": [
      "\n",
      "> Dovesky\n",
      "(-0.87) names\\Russian\n",
      "(-1.33) names\\Czech\n",
      "(-2.20) names\\English\n",
      "\n",
      "> Jackson\n",
      "(-0.20) names\\Scottish\n",
      "(-2.56) names\\English\n",
      "(-3.22) names\\Dutch\n",
      "\n",
      "> Satoshi\n",
      "(-0.52) names\\Italian\n",
      "(-2.06) names\\Japanese\n",
      "(-3.11) names\\Polish\n"
     ]
    }
   ],
   "source": [
    "def predict(input_line, n_predictions=3):\n",
    "    print('\\n> %s' % input_line)\n",
    "    output = evaluate(Variable(lineToTensor(input_line)))\n",
    "\n",
    "    # Get top N categories\n",
    "    topv, topi = output.data.topk(n_predictions, 1, True)\n",
    "    predictions = []\n",
    "\n",
    "    for i in range(n_predictions):\n",
    "        value = topv[0][i]\n",
    "        category_index = topi[0][i]\n",
    "        print('(%.2f) %s' % (value, all_categories[category_index]))\n",
    "        predictions.append([value, all_categories[category_index]])\n",
    "\n",
    "predict('Dovesky')\n",
    "predict('Jackson')\n",
    "predict('Satoshi')"
   ]
  },
  {
   "cell_type": "code",
   "execution_count": null,
   "metadata": {
    "collapsed": true
   },
   "outputs": [],
   "source": []
  }
 ],
 "metadata": {
  "kernelspec": {
   "display_name": "Python 3",
   "language": "python",
   "name": "python3"
  },
  "language_info": {
   "codemirror_mode": {
    "name": "ipython",
    "version": 3
   },
   "file_extension": ".py",
   "mimetype": "text/x-python",
   "name": "python",
   "nbconvert_exporter": "python",
   "pygments_lexer": "ipython3",
   "version": "3.6.1"
  }
 },
 "nbformat": 4,
 "nbformat_minor": 2
}
